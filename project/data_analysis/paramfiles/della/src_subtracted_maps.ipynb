{
 "cells": [
  {
   "cell_type": "code",
   "execution_count": 2,
   "metadata": {},
   "outputs": [],
   "source": [
    "from pixell import enmap,utils\n",
    "import numpy as np\n",
    "import matplotlib.pyplot as plt"
   ]
  },
  {
   "cell_type": "code",
   "execution_count": 3,
   "metadata": {},
   "outputs": [],
   "source": [
    "map_dir = \"/scratch/gpfs/ACT/dr6v4/maps/dr6v4_20230316/release/\"\n",
    "\n",
    "maps_dr6_pa4_f150 = [map_dir + \"cmb_night_pa4_f150_3pass_4way_set%d_map.fits\" % (i) for i in range(4)]\n",
    "maps_dr6_pa4_f220 = [map_dir + \"cmb_night_pa4_f220_3pass_4way_set%d_map.fits\" % (i) for i in range(4)]\n",
    "maps_dr6_pa5_f090 = [map_dir + \"cmb_night_pa5_f090_3pass_4way_set%d_map.fits\" % (i) for i in range(4)]\n",
    "maps_dr6_pa5_f150 = [map_dir + \"cmb_night_pa5_f150_3pass_4way_set%d_map.fits\" % (i) for i in range(4)]\n",
    "maps_dr6_pa6_f090 = [map_dir + \"cmb_night_pa6_f090_3pass_4way_set%d_map.fits\" % (i) for i in range(4)]\n",
    "maps_dr6_pa6_f150 = [map_dir + \"cmb_night_pa6_f150_3pass_4way_set%d_map.fits\" % (i) for i in range(4)]\n",
    "\n",
    "fnames = maps_dr6_pa4_f150 + maps_dr6_pa4_f220 + maps_dr6_pa5_f090 + maps_dr6_pa5_f150 + maps_dr6_pa6_f090 + maps_dr6_pa6_f150"
   ]
  },
  {
   "cell_type": "code",
   "execution_count": 4,
   "metadata": {},
   "outputs": [],
   "source": [
    "# plt.imshow(srcmap[0, 5500:6000,11500:12000])"
   ]
  },
  {
   "cell_type": "code",
   "execution_count": 5,
   "metadata": {},
   "outputs": [],
   "source": [
    "data_dir = '/tigress/zequnl/cmb/data/dr6/src_free_maps/'"
   ]
  },
  {
   "cell_type": "code",
   "execution_count": 6,
   "metadata": {},
   "outputs": [],
   "source": [
    "! rm /tigress/zequnl/cmb/data/dr6/src_free_maps/*"
   ]
  },
  {
   "cell_type": "code",
   "execution_count": 7,
   "metadata": {},
   "outputs": [
    {
     "name": "stdout",
     "output_type": "stream",
     "text": [
      "mkdir: cannot create directory ‘/tigress/zequnl/cmb/data/dr6/src_free_maps’: File exists\r\n"
     ]
    }
   ],
   "source": [
    "! mkdir /tigress/zequnl/cmb/data/dr6/src_free_maps"
   ]
  },
  {
   "cell_type": "code",
   "execution_count": 8,
   "metadata": {},
   "outputs": [],
   "source": [
    "from pspy import so_map\n",
    "from pixell import enmap, curvedsky\n",
    "import os\n",
    "\n",
    "\n",
    "arrays_dr6 = [\"pa4_f150\", \"pa4_f220\", \"pa5_f090\", \"pa5_f150\", \"pa6_f090\", \"pa6_f150\"]\n",
    "\n",
    "for ar in arrays_dr6:\n",
    "    for i in range(4):\n",
    "\n",
    "        scr_name = f\"cmb_night_{ar}_3pass_4way_set{i}_srcs.fits\"\n",
    "        map_src = so_map.read_map(map_dir + scr_name)\n",
    "\n",
    "        map = so_map.read_map(map_dir + f\"cmb_night_{ar}_3pass_4way_set{i}_map.fits\")\n",
    "        map.data -= map_src.data\n",
    "\n",
    "        map.write_map(data_dir + f\"cmb_night_{ar}_3pass_4way_set{i}_map_srcfree.fits\")\n",
    "        map_src.write_map(data_dir + f\"cmb_night_{ar}_3pass_4way_set{i}_map_model.fits\")"
   ]
  }
 ],
 "metadata": {
  "kernelspec": {
   "display_name": "Python 3 (ps)",
   "language": "python",
   "name": "ps"
  },
  "language_info": {
   "codemirror_mode": {
    "name": "ipython",
    "version": 3
   },
   "file_extension": ".py",
   "mimetype": "text/x-python",
   "name": "python",
   "nbconvert_exporter": "python",
   "pygments_lexer": "ipython3",
   "version": "3.11.4"
  }
 },
 "nbformat": 4,
 "nbformat_minor": 4
}
