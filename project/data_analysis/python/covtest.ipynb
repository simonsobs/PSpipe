{
 "cells": [
  {
   "cell_type": "code",
   "execution_count": 11,
   "id": "53ac7632",
   "metadata": {},
   "outputs": [
    {
     "name": "stdout",
     "output_type": "stream",
     "text": [
      "/global/cscratch1/sd/xzackli/PSpipe/project/data_analysis\n"
     ]
    }
   ],
   "source": [
    "import sys\n",
    "\n",
    "import data_analysis_utils\n",
    "import numpy as np\n",
    "from pspy import pspy_utils, so_cov, so_dict, so_map, so_mcm, so_mpi, so_spectra\n",
    "\n",
    "d = so_dict.so_dict()\n",
    "# d.read_from_file(sys.argv[1])\n",
    "%cd /global/cscratch1/sd/xzackli/PSpipe/project/data_analysis\n",
    "d.read_from_file(\"paramfiles/global_dr6_v3_4pass_pa6_gaussian.dict\")"
   ]
  },
  {
   "cell_type": "code",
   "execution_count": 2,
   "id": "3181e047",
   "metadata": {},
   "outputs": [],
   "source": [
    "windows_dir = \"windows\"\n",
    "mcms_dir = \"mcms\"\n",
    "spectra_dir = \"spectra\"\n",
    "ps_model_dir = \"noise_model\"\n",
    "cov_dir = \"covariances\"\n",
    "bestfit_dir = \"best_fits\"\n",
    "sq_win_alms_dir = \"sq_win_alms\"\n",
    "\n",
    "pspy_utils.create_directory(cov_dir)\n",
    "surveys = d[\"surveys\"]\n",
    "binning_file = d[\"binning_file\"]\n",
    "lmax = d[\"lmax\"]\n",
    "niter = d[\"niter\"]\n",
    "\n",
    "fast_coupling = True\n",
    "if fast_coupling:\n",
    "    # This option is designed to be fast but is not for general usage\n",
    "    # In particular we assume that the same window function is used in T and Pol\n",
    "    # This loop check that this is what was specified in the dictfile\n",
    "    for sv in surveys:\n",
    "        arrays = d[\"arrays_%s\" % sv]\n",
    "        for ar in arrays:\n",
    "            assert d[\"window_T_%s_%s\" % (sv, ar)] == d[\"window_pol_%s_%s\" % (sv, ar)], \"T and pol windows have to be the same\"\n"
   ]
  },
  {
   "cell_type": "code",
   "execution_count": 3,
   "id": "81452dfd-728d-4dfa-8eaa-9a0dcb62df2d",
   "metadata": {},
   "outputs": [],
   "source": [
    "\n",
    "# spectra = [\"TT\", \"TE\", \"TB\", \"ET\", \"BT\", \"EE\", \"EB\", \"BE\", \"BB\"]\n",
    "spectra = [\"TT\", \"TE\", \"ET\",  \"EE\", \"BE\"]\n",
    "spin_pairs = [\"spin0xspin0\", \"spin0xspin2\", \"spin2xspin0\", \"spin2xspin2\"]\n"
   ]
  },
  {
   "cell_type": "code",
   "execution_count": 4,
   "id": "513d7123-593a-465e-bcf3-ac66ec15f2af",
   "metadata": {},
   "outputs": [],
   "source": [
    "\n",
    "ps_all = {}\n",
    "nl_all = {}\n",
    "spec_name = []\n",
    "ns = {}\n",
    "\n",
    "_, _, lb, _ = pspy_utils.read_binning_file(binning_file, lmax)"
   ]
  },
  {
   "cell_type": "code",
   "execution_count": 5,
   "id": "2723c2d4-f0e0-4d45-abd1-dbb4e946d08c",
   "metadata": {},
   "outputs": [],
   "source": [
    "\n",
    "for id_sv1, sv1 in enumerate(surveys):\n",
    "    arrays_1 = d[\"arrays_%s\" % sv1]\n",
    "\n",
    "    for id_ar1, ar1 in enumerate(arrays_1):\n",
    "        _, bl1 = pspy_utils.read_beam_file(d[\"beam_%s_%s\" % (sv1, ar1)])\n",
    "        bl1 = bl1[2:lmax + 2]\n",
    "        freq1 = d[\"nu_eff_%s_%s\" % (sv1, ar1)]\n",
    "\n",
    "        for id_sv2, sv2 in enumerate(surveys):\n",
    "            arrays_2 = d[\"arrays_%s\" % sv2]\n",
    "\n",
    "            for id_ar2, ar2 in enumerate(arrays_2):\n",
    "                _, bl2 = pspy_utils.read_beam_file(d[\"beam_%s_%s\" % (sv2, ar2)])\n",
    "                bl2 = bl2[2:lmax + 2]\n",
    "                freq2 = d[\"nu_eff_%s_%s\" % (sv2, ar2)]\n",
    "\n",
    "\n",
    "                if  (id_sv1 == id_sv2) & (id_ar1 > id_ar2) : continue\n",
    "                if  (id_sv1 > id_sv2) : continue\n",
    "\n",
    "                if (sv1 == sv2) & (ar1 == ar2):\n",
    "                    spec_name_noise = \"mean_%sx%s_%s_noise\" % (ar1, ar2, sv1)\n",
    "                    _, Nl = so_spectra.read_ps(ps_model_dir + \"/%s.dat\" % spec_name_noise, spectra=spectra)\n",
    "\n",
    "                for spec in [\"TT\", \"TE\", \"ET\", \"EE\"]:\n",
    "                        \n",
    "                    name = \"%sx%s_%s\" % (freq1, freq2, spec)\n",
    "                    _, ps_th = np.loadtxt(\"%s/best_fit_%s.dat\"%(bestfit_dir, name), unpack=True)\n",
    "\n",
    "\n",
    "                    ps_all[\"%s&%s\" % (sv1, ar1), \"%s&%s\" % (sv2, ar2), spec] = bl1 * bl2 * ps_th[:lmax]\n",
    "\n",
    "                    if (sv1 == sv2) & (ar1 == ar2):\n",
    "                        ns[sv1] = len(d[\"maps_%s_%s\" % (sv1, ar1)])\n",
    "\n",
    "                        nl_all[\"%s&%s\" % (sv1, ar1), \"%s&%s\" % (sv2, ar2), spec] = Nl[spec][:lmax] * ns[sv1]\n",
    "                    else:\n",
    "                        nl_all[\"%s&%s\" % (sv1, ar1), \"%s&%s\" % (sv2, ar2), spec] = np.zeros(lmax)\n",
    "\n",
    "                    ps_all[\"%s&%s\" % (sv2, ar2), \"%s&%s\"%(sv1, ar1), spec] = ps_all[\"%s&%s\"%(sv1, ar1), \"%s&%s\"%(sv2, ar2), spec]\n",
    "                    nl_all[\"%s&%s\" % (sv2, ar2), \"%s&%s\"%(sv1, ar1), spec] = nl_all[\"%s&%s\"%(sv1, ar1), \"%s&%s\"%(sv2, ar2), spec]\n",
    "\n",
    "                spec_name += [\"%s&%sx%s&%s\" % (sv1, ar1, sv2, ar2)]\n"
   ]
  },
  {
   "cell_type": "code",
   "execution_count": 6,
   "id": "edeea394-26d6-4bb2-97d4-a57b8818995e",
   "metadata": {},
   "outputs": [],
   "source": [
    "\n",
    "na_list, nb_list, nc_list, nd_list = [], [], [], []\n",
    "ncovs = 0\n",
    "\n",
    "for sid1, spec1 in enumerate(spec_name):\n",
    "    for sid2, spec2 in enumerate(spec_name):\n",
    "        if sid1 > sid2: continue\n",
    "        na, nb = spec1.split(\"x\")\n",
    "        nc, nd = spec2.split(\"x\")\n",
    "        na_list += [na]\n",
    "        nb_list += [nb]\n",
    "        nc_list += [nc]\n",
    "        nd_list += [nd]\n",
    "        ncovs += 1"
   ]
  },
  {
   "cell_type": "code",
   "execution_count": 7,
   "id": "cc45fecf-e854-4e25-9297-17d2e97207b7",
   "metadata": {},
   "outputs": [
    {
     "name": "stdout",
     "output_type": "stream",
     "text": [
      "we will use the toeplitz approximation\n"
     ]
    }
   ],
   "source": [
    "\n",
    "if d[\"use_toeplitz_cov\"] == True:\n",
    "    print(\"we will use the toeplitz approximation\")\n",
    "    l_exact, l_band, l_toep = 800, 2000, 2750\n",
    "else:\n",
    "    l_exact, l_band, l_toep = None, None, None"
   ]
  },
  {
   "cell_type": "code",
   "execution_count": 8,
   "id": "63dec9c9-9a51-4eca-a5e0-86ebfe4f0d8c",
   "metadata": {},
   "outputs": [
    {
     "name": "stdout",
     "output_type": "stream",
     "text": [
      "number of covariance matrices to compute : 6\n"
     ]
    }
   ],
   "source": [
    "print(\"number of covariance matrices to compute : %s\" % ncovs)"
   ]
  },
  {
   "cell_type": "code",
   "execution_count": 9,
   "id": "b7d43922-367e-4709-ad4b-4068242a9396",
   "metadata": {},
   "outputs": [
    {
     "name": "stdout",
     "output_type": "stream",
     "text": [
      "MPI is not yet properly initialized. Are you sure this is what you want to do?\n",
      "rank: 0 size: 1 ntask: 6 start: 0 end: 5\n",
      "[0 1 2 3 4 5]\n",
      "cov element (dr6_pa6_f090 x dr6_pa6_f090, dr6_pa6_f090 x dr6_pa6_f090)\n",
      "cov element (dr6_pa6_f090 x dr6_pa6_f090, dr6_pa6_f090 x dr6_pa6_f150)\n",
      "cov element (dr6_pa6_f090 x dr6_pa6_f090, dr6_pa6_f150 x dr6_pa6_f150)\n",
      "cov element (dr6_pa6_f090 x dr6_pa6_f150, dr6_pa6_f090 x dr6_pa6_f150)\n",
      "cov element (dr6_pa6_f090 x dr6_pa6_f150, dr6_pa6_f150 x dr6_pa6_f150)\n",
      "cov element (dr6_pa6_f150 x dr6_pa6_f150, dr6_pa6_f150 x dr6_pa6_f150)\n"
     ]
    }
   ],
   "source": [
    "subtasks = so_mpi.taskrange(imin=0, imax=ncovs - 1)\n",
    "print(subtasks)\n",
    "for task in subtasks:\n",
    "    task = int(task)\n",
    "    na, nb, nc, nd = na_list[task], nb_list[task], nc_list[task], nd_list[task]\n",
    "    na_r, nb_r, nc_r, nd_r = na.replace(\"&\", \"_\"), nb.replace(\"&\", \"_\"), nc.replace(\"&\", \"_\"), nd.replace(\"&\", \"_\")\n",
    "    print(\"cov element (%s x %s, %s x %s)\" % (na_r, nb_r, nc_r, nd_r))"
   ]
  },
  {
   "cell_type": "code",
   "execution_count": 10,
   "id": "0e68468f-de0e-47e3-bff6-48cdff70fb22",
   "metadata": {},
   "outputs": [],
   "source": [
    "task = subtasks[1]"
   ]
  },
  {
   "cell_type": "code",
   "execution_count": 35,
   "id": "cff7328b-3884-489f-bfba-fdcad89f6ad2",
   "metadata": {},
   "outputs": [
    {
     "name": "stdout",
     "output_type": "stream",
     "text": [
      "cov element (dr6_pa6_f090 x dr6_pa6_f090, dr6_pa6_f090 x dr6_pa6_f150)\n"
     ]
    }
   ],
   "source": [
    "na, nb, nc, nd = na_list[task], nb_list[task], nc_list[task], nd_list[task]\n",
    "na_r, nb_r, nc_r, nd_r = na.replace(\"&\", \"_\"), nb.replace(\"&\", \"_\"), nc.replace(\"&\", \"_\"), nd.replace(\"&\", \"_\")\n",
    "print(\"cov element (%s x %s, %s x %s)\" % (na_r, nb_r, nc_r, nd_r))"
   ]
  },
  {
   "cell_type": "code",
   "execution_count": 36,
   "id": "9d3c982b-0c77-4931-bf64-b26c6f42d7a9",
   "metadata": {},
   "outputs": [
    {
     "data": {
      "text/plain": [
       "['TT', 'TE', 'ET', 'EE', 'BE']"
      ]
     },
     "execution_count": 36,
     "metadata": {},
     "output_type": "execute_result"
    }
   ],
   "source": [
    "spectra"
   ]
  },
  {
   "cell_type": "code",
   "execution_count": 37,
   "id": "83b50625-518c-42c5-8e82-e41ebaa4ebc7",
   "metadata": {},
   "outputs": [],
   "source": [
    "coupling = data_analysis_utils.fast_cov_coupling(sq_win_alms_dir,\n",
    "                                                         na_r,\n",
    "                                                         nb_r,\n",
    "                                                         nc_r,\n",
    "                                                         nd_r,\n",
    "                                                         lmax,\n",
    "                                                         l_exact=l_exact,\n",
    "                                                         l_band=l_band,\n",
    "                                                         l_toep=l_toep)"
   ]
  },
  {
   "cell_type": "code",
   "execution_count": 28,
   "id": "9a32cd49-0464-4e6e-bb18-2af50d23720f",
   "metadata": {},
   "outputs": [],
   "source": [
    "try:\n",
    "    mbb_inv_ab, Bbl_ab = so_mcm.read_coupling(prefix=\"%s/%sx%s\" % (mcms_dir, na_r, nb_r), spin_pairs=spin_pairs)\n",
    "except:\n",
    "    mbb_inv_ab, Bbl_ab = so_mcm.read_coupling(prefix=\"%s/%sx%s\" % (mcms_dir, nb_r, na_r), spin_pairs=spin_pairs)\n",
    "\n",
    "try:\n",
    "    mbb_inv_cd, Bbl_cd = so_mcm.read_coupling(prefix=\"%s/%sx%s\" % (mcms_dir, nc_r, nd_r), spin_pairs=spin_pairs)\n",
    "except:\n",
    "    mbb_inv_cd, Bbl_cd = so_mcm.read_coupling(prefix=\"%s/%sx%s\" % (mcms_dir, nd_r, nc_r), spin_pairs=spin_pairs)"
   ]
  },
  {
   "cell_type": "code",
   "execution_count": null,
   "id": "71502402-89c7-4452-a2ce-7ad537432db0",
   "metadata": {},
   "outputs": [],
   "source": []
  },
  {
   "cell_type": "code",
   "execution_count": 38,
   "id": "af4d400b-edd4-4861-8050-0dbe7cc316ef",
   "metadata": {},
   "outputs": [],
   "source": [
    "analytic_cov = data_analysis_utils.covariance_element(coupling,\n",
    "                                                          [na, nb, nc, nd],\n",
    "                                                          ns,\n",
    "                                                          ps_all,\n",
    "                                                          nl_all,\n",
    "                                                          binning_file,\n",
    "                                                          mbb_inv_ab,\n",
    "                                                          mbb_inv_cd)"
   ]
  },
  {
   "cell_type": "code",
   "execution_count": 53,
   "id": "3cfec7d5-7514-4499-ae3a-2712cc7210a0",
   "metadata": {},
   "outputs": [],
   "source": [
    "np.save(\"noise_Dl_dict_all_TEST.npy\", nl_all)\n",
    "np.save(\"signal_Dl_dict_all_TEST.npy\", ps_all)"
   ]
  },
  {
   "cell_type": "code",
   "execution_count": 28,
   "id": "f40ebf07-33dc-4859-a4c0-460dea82b3a0",
   "metadata": {},
   "outputs": [],
   "source": [
    "from pixell import enmap"
   ]
  },
  {
   "cell_type": "code",
   "execution_count": 29,
   "id": "fb05b89b-2ca9-4d0f-8dd0-a0d7174bf7e9",
   "metadata": {},
   "outputs": [
    {
     "data": {
      "text/plain": [
       "ndmap([[9.48870716e+07 1.61103999e+08 1.11635226e+08 ... 1.08097528e+08\n",
       "  7.24992437e+07 7.63123258e+07]\n",
       " [5.60837347e+07 9.17006703e+07 1.06649701e+08 ... 9.43122229e+07\n",
       "  1.06825329e+08 8.03382437e+07]\n",
       " [2.04247744e+07 8.45915006e+07 8.80723671e+07 ... 5.63656328e+07\n",
       "  8.74482801e+07 8.32417345e+07]\n",
       " ...\n",
       " [3.64131416e+07 3.29274553e+07 6.97661083e+07 ... 1.17373477e+08\n",
       "  1.24554325e+08 9.88250715e+07]\n",
       " [8.05926674e+07 1.09793720e+08 9.13080606e+07 ... 1.28549367e+08\n",
       "  1.09911671e+08 1.17146245e+08]\n",
       " [3.29313055e+07 1.02295361e+08 1.21033379e+08 ... 1.17289583e+08\n",
       "  1.46844974e+08 1.58029134e+08]],car:{cdelt:[-0.008333,0.008333],crval:[180,0],crpix:[21601.00,7561.00]})"
      ]
     },
     "execution_count": 29,
     "metadata": {},
     "output_type": "execute_result"
    }
   ],
   "source": [
    "enmap.read_map(\"/global/cfs/cdirs/sobs/sims/scan-s0002/v1/car/lat01_s25_large_tiles_fullfp_f150_1pass_2way_set01_div.fits\")"
   ]
  },
  {
   "cell_type": "code",
   "execution_count": 12,
   "id": "da623f28-3cdd-496d-afd2-4a1c05fa7593",
   "metadata": {},
   "outputs": [
    {
     "data": {
      "text/plain": [
       "[<matplotlib.lines.Line2D at 0x2aabf6329e80>]"
      ]
     },
     "execution_count": 12,
     "metadata": {},
     "output_type": "execute_result"
    },
    {
     "data": {
      "image/png": "[encoded data removed]",
      "text/plain": [
       "<Figure size 432x288 with 1 Axes>"
      ]
     },
     "metadata": {
      "needs_background": "light"
     },
     "output_type": "display_data"
    }
   ],
   "source": [
    "import matplotlib.pyplot as plt\n",
    "\n",
    "plt.plot(nl_all[('dr6&pa6_f090',\n",
    "  'dr6&pa6_f090',\n",
    "  'TT')])"
   ]
  },
  {
   "cell_type": "code",
   "execution_count": 13,
   "id": "2c7174d0-c15a-4427-9664-b3b9e053f1f2",
   "metadata": {},
   "outputs": [],
   "source": [
    "import matplotlib.pyplot as plt"
   ]
  },
  {
   "cell_type": "code",
   "execution_count": 14,
   "id": "1cc0e119-9b45-440a-9e33-555a2fbdb77e",
   "metadata": {},
   "outputs": [
    {
     "name": "stdout",
     "output_type": "stream",
     "text": [
      "[juliapkg] Locating Julia ^1.6\n",
      "[juliapkg] Querying Julia versions from https://julialang-s3.julialang.org/bin/versions.json\n",
      "[juliapkg] Using Julia 1.7.2 at /global/homes/x/xzackli/bin/julia-1.7.2/bin/julia\n",
      "[juliapkg] Using Julia project at /global/homes/x/xzackli/.conda/envs/ps38/julia_env\n",
      "[juliapkg] Installing packages:\n",
      "           julia> import Pkg\n",
      "           julia> Pkg.add([Pkg.PackageSpec(name=\"PythonCall\", uuid=\"6099a3de-0909-46bc-b1f4-468b9a2dfc0d\"), Pkg.PackageSpec(name=\"PowerSpectra\", uuid=\"87acb811-fa58-4e83-857d-605afdc1041b\")])\n",
      "           julia> Pkg.resolve()\n"
     ]
    },
    {
     "name": "stderr",
     "output_type": "stream",
     "text": [
      "    Updating registry at `~/.julia/registries/General.toml`\n",
      "   Resolving package versions...\n",
      "  No Changes to `/global/u2/x/xzackli/.conda/envs/ps38/julia_env/Project.toml`\n",
      "  No Changes to `/global/u2/x/xzackli/.conda/envs/ps38/julia_env/Manifest.toml`\n",
      "  No Changes to `/global/u2/x/xzackli/.conda/envs/ps38/julia_env/Project.toml`\n",
      "  No Changes to `/global/u2/x/xzackli/.conda/envs/ps38/julia_env/Manifest.toml`\n"
     ]
    }
   ],
   "source": [
    "from juliacall import Main as jl"
   ]
  },
  {
   "cell_type": "code",
   "execution_count": 15,
   "id": "132bf961-f7da-41ff-8b88-1b3b04d90e3e",
   "metadata": {},
   "outputs": [],
   "source": [
    "jl.seval(\"using JLD2\")"
   ]
  },
  {
   "cell_type": "code",
   "execution_count": 16,
   "id": "2488b3fb-fa36-4115-9af7-f099a24c1789",
   "metadata": {},
   "outputs": [
    {
     "data": {
      "text/plain": [
       "dict_keys([('dr6&pa6_f090', 'dr6&pa6_f090', 'TT'), ('dr6&pa6_f090', 'dr6&pa6_f090', 'TE'), ('dr6&pa6_f090', 'dr6&pa6_f090', 'ET'), ('dr6&pa6_f090', 'dr6&pa6_f090', 'EE'), ('dr6&pa6_f090', 'dr6&pa6_f150', 'TT'), ('dr6&pa6_f150', 'dr6&pa6_f090', 'TT'), ('dr6&pa6_f090', 'dr6&pa6_f150', 'TE'), ('dr6&pa6_f150', 'dr6&pa6_f090', 'TE'), ('dr6&pa6_f090', 'dr6&pa6_f150', 'ET'), ('dr6&pa6_f150', 'dr6&pa6_f090', 'ET'), ('dr6&pa6_f090', 'dr6&pa6_f150', 'EE'), ('dr6&pa6_f150', 'dr6&pa6_f090', 'EE'), ('dr6&pa6_f150', 'dr6&pa6_f150', 'TT'), ('dr6&pa6_f150', 'dr6&pa6_f150', 'TE'), ('dr6&pa6_f150', 'dr6&pa6_f150', 'ET'), ('dr6&pa6_f150', 'dr6&pa6_f150', 'EE')])"
      ]
     },
     "execution_count": 16,
     "metadata": {},
     "output_type": "execute_result"
    }
   ],
   "source": [
    "ps_all.keys()"
   ]
  },
  {
   "cell_type": "code",
   "execution_count": 23,
   "id": "3c959261-6288-4f9c-9c07-6363673d4049",
   "metadata": {},
   "outputs": [],
   "source": [
    "D = jl.seval(\"\"\"Dict{String, Vector{Float64}}()\"\"\")\n",
    "for k in ps_all:\n",
    "    jl.setindex_b(D, ps_all[k], \"_\".join(k))\n",
    "jl.save(\"ps_all.jld2\", D)"
   ]
  },
  {
   "cell_type": "code",
   "execution_count": 25,
   "id": "d1c7316d-ef97-4892-b2b7-bc6fb8cf0320",
   "metadata": {},
   "outputs": [],
   "source": [
    "D = jl.seval(\"\"\"Dict{String, Vector{Float64}}()\"\"\")\n",
    "for k in nl_all:\n",
    "    jl.setindex_b(D, nl_all[k], \"_\".join(k))\n",
    "jl.save(\"nl_all.jld2\", D)"
   ]
  },
  {
   "cell_type": "code",
   "execution_count": 6,
   "id": "952a060f-2b7c-4901-90d1-8bd83f382aff",
   "metadata": {},
   "outputs": [],
   "source": [
    "import numpy as np"
   ]
  },
  {
   "cell_type": "code",
   "execution_count": 30,
   "id": "06f8fbd6-bff4-4e79-a914-ff53cdbfb7e5",
   "metadata": {},
   "outputs": [],
   "source": [
    "x = np.array([[1],[3],[2]])"
   ]
  },
  {
   "cell_type": "code",
   "execution_count": 36,
   "id": "11218fa3-02ab-4c5a-9f4e-d2b9e289bfd4",
   "metadata": {},
   "outputs": [],
   "source": [
    "import juliacall\n",
    "juliacall.using(locals(), 'PowerSpectra', 'SpectralVector', rename=lambda x:'jl'+x.replace('!',''))"
   ]
  },
  {
   "cell_type": "code",
   "execution_count": 40,
   "id": "c809ea4d-5026-47e5-8bd4-973f5b790bff",
   "metadata": {},
   "outputs": [
    {
     "data": {
      "text/csv": [
       "1.0\n",
       "2.0\n",
       "3.0\n"
      ],
      "text/plain": [
       "3-element SpectralVector{Float64, PythonCall.PyArray{Float64, 1, true, true, Float64}} with indices 0:2:\n",
       " 1.0\n",
       " 2.0\n",
       " 3.0"
      ],
      "text/tab-separated-values": [
       "1.0\n",
       "2.0\n",
       "3.0\n"
      ]
     },
     "execution_count": 40,
     "metadata": {},
     "output_type": "execute_result"
    }
   ],
   "source": [
    "jlSpectralVector(np.array([1.0, 2.0, 3.0]))"
   ]
  },
  {
   "cell_type": "code",
   "execution_count": 51,
   "id": "c554876e-b72f-478a-adfe-4518b855f04f",
   "metadata": {},
   "outputs": [],
   "source": [
    "a = jl.seval(\"\"\"Dict{Int, Float64}(1 => 1.0)\"\"\")"
   ]
  },
  {
   "cell_type": "code",
   "execution_count": 52,
   "id": "6ce46734-31df-4dbc-8f27-02d86e356268",
   "metadata": {},
   "outputs": [
    {
     "name": "stdout",
     "output_type": "stream",
     "text": [
      "Dict(1 => 1.0)"
     ]
    }
   ],
   "source": [
    "jl.print(a)"
   ]
  },
  {
   "cell_type": "code",
   "execution_count": null,
   "id": "0d5b5444-7ef0-48c1-9beb-c741add67b96",
   "metadata": {},
   "outputs": [],
   "source": []
  },
  {
   "cell_type": "code",
   "execution_count": null,
   "id": "b35583a0-cc70-4d66-904d-5ddcd0fb073a",
   "metadata": {},
   "outputs": [],
   "source": []
  },
  {
   "cell_type": "code",
   "execution_count": null,
   "id": "e413fc65-39cd-48d4-bd29-12faf2c156f8",
   "metadata": {},
   "outputs": [],
   "source": []
  }
 ],
 "metadata": {
  "kernelspec": {
   "display_name": "Python 3 (ps38)",
   "language": "python",
   "name": "ps38"
  },
  "language_info": {
   "codemirror_mode": {
    "name": "ipython",
    "version": 3
   },
   "file_extension": ".py",
   "mimetype": "text/x-python",
   "name": "python",
   "nbconvert_exporter": "python",
   "pygments_lexer": "ipython3",
   "version": "3.8.8"
  }
 },
 "nbformat": 4,
 "nbformat_minor": 5
}
